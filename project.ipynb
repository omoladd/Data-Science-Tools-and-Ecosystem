{
 "cells": [
  {
   "cell_type": "markdown",
   "id": "5a8ecb03",
   "metadata": {},
   "source": [
    "__First python project using OOP__"
   ]
  },
  {
   "cell_type": "code",
   "execution_count": 8,
   "id": "2d4b4c76",
   "metadata": {},
   "outputs": [],
   "source": [
    "# Develop a budget tracker that helps users manage expenses and income with categories and transactions.\n",
    "amount = 100\n",
    "\n",
    "class Categories():\n",
    "    \n",
    "    def __init__(self, cname):\n",
    "        self.__name = cname\n",
    "        \n",
    "    \n",
    "   \n",
    "class Transaction():\n",
    "    def __init__(self, amount, trans_name):\n",
    "        self.__amount = amount\n",
    "        self.__trans_name = trans_name\n",
    "        self.__get_amount == amount \n",
    "        \n",
    "\n",
    "class BudgetTracker:\n",
    "    def __init__(self):\n",
    "        self.Categories = []\n",
    "        \n",
    "    def add_category(self, category):\n",
    "        self.Categories.append(category)\n",
    "        \n",
    "        category = Categories(\"Entertainment\")\n",
    "\n",
    "    def add_budget(self, amount):\n",
    "        response = input(f\"Do you want to budget {amount}? (yes/no): \")\n",
    "        if response.lower() == 'yes':\n",
    "            print(f\"You have budgeted {amount}.\")\n",
    "        else:\n",
    "            print(\"Budgeting canceled.\")\n"
   ]
  },
  {
   "cell_type": "code",
   "execution_count": 9,
   "id": "98eca32b",
   "metadata": {},
   "outputs": [
    {
     "name": "stdout",
     "output_type": "stream",
     "text": [
      "Do you want to budget 100? (yes/no): yes\n",
      "You have budgeted 100.\n"
     ]
    }
   ],
   "source": [
    "\n",
    "amount = 100\n",
    "budget_tracker = BudgetTracker()\n",
    "\n",
    "# Create a category\n",
    "category = Categories(\"Entertainment\")\n",
    "\n",
    "# Add the category to the budget tracker\n",
    "budget_tracker.add_category(category)\n",
    "\n",
    "# Prompt the user to budget a particular amount\n",
    "budget_tracker.add_budget(amount)"
   ]
  },
  {
   "cell_type": "code",
   "execution_count": 10,
   "id": "68e1f356",
   "metadata": {},
   "outputs": [],
   "source": [
    "budget_tracker.add_category(category)"
   ]
  },
  {
   "cell_type": "code",
   "execution_count": 11,
   "id": "653c7d71",
   "metadata": {},
   "outputs": [
    {
     "data": {
      "text/plain": [
       "'**************************************************'"
      ]
     },
     "execution_count": 11,
     "metadata": {},
     "output_type": "execute_result"
    }
   ],
   "source": [
    "\"*\" *50"
   ]
  },
  {
   "cell_type": "code",
   "execution_count": null,
   "id": "43508b90",
   "metadata": {},
   "outputs": [
    {
     "name": "stdout",
     "output_type": "stream",
     "text": [
      "Enter a category (or type 'done' to finish): hhh\n",
      "Enter the cost for hhh: $78\n"
     ]
    }
   ],
   "source": [
    "class Category:\n",
    "    def __init__(self, name):\n",
    "        self.name = name\n",
    "        self.transactions = []\n",
    "\n",
    "class Transaction:\n",
    "    def __init__(self, amount, name):\n",
    "        self.amount = amount\n",
    "        self.name = name\n",
    "\n",
    "class BudgetTracker:\n",
    "    def __init__(self):\n",
    "        self.categories = []\n",
    "\n",
    "    def add_category(self, category_name):\n",
    "        category = Category(category_name)\n",
    "        self.categories.append(category)\n",
    "        return category\n",
    "\n",
    "    def add_transaction(self, category, amount, transaction_name):\n",
    "        transaction = Transaction(amount, transaction_name)\n",
    "        category.transactions.append(transaction)\n",
    "\n",
    "    def view_balance(self):\n",
    "        total_balance = 500\n",
    "        for category in self.categories:\n",
    "            category_balance = sum(transaction.amount for transaction in category.transactions)\n",
    "            print(f\"{category.name} Balance: ${category_balance}\")\n",
    "            total_balance += category_balance\n",
    "        print(f\"Total Balance: ${total_balance}\")\n",
    "\n",
    "# Example usage:\n",
    "budget_tracker = BudgetTracker()\n",
    "\n",
    "# Allow the user to enter categories and costs\n",
    "while True:\n",
    "    category_name = input(\"Enter a category (or type 'done' to finish): \")\n",
    "    if category_name.lower() == 'done':\n",
    "        break\n",
    "    \n",
    "    category = budget_tracker.add_category(category_name)\n",
    "    cost = float(input(f\"Enter the cost for {category_name}: $\"))\n",
    "    \n",
    "    budget_tracker.add_transaction(category, cost, f\"{category_name} Purchase\")\n",
    "\n",
    "# View the balance\n",
    "budget_tracker.view_balance()\n"
   ]
  },
  {
   "cell_type": "code",
   "execution_count": null,
   "id": "3088d4de",
   "metadata": {},
   "outputs": [],
   "source": [
    "budget_tracker.view_balance()"
   ]
  },
  {
   "cell_type": "code",
   "execution_count": 1,
   "id": "1eb67c53",
   "metadata": {},
   "outputs": [
    {
     "ename": "NameError",
     "evalue": "name 'add_category' is not defined",
     "output_type": "error",
     "traceback": [
      "\u001b[1;31m---------------------------------------------------------------------------\u001b[0m",
      "\u001b[1;31mNameError\u001b[0m                                 Traceback (most recent call last)",
      "Cell \u001b[1;32mIn[1], line 1\u001b[0m\n\u001b[1;32m----> 1\u001b[0m add_category(category)\n",
      "\u001b[1;31mNameError\u001b[0m: name 'add_category' is not defined"
     ]
    }
   ],
   "source": [
    "add_category(category)"
   ]
  },
  {
   "cell_type": "code",
   "execution_count": null,
   "id": "1022bc3c",
   "metadata": {},
   "outputs": [],
   "source": []
  }
 ],
 "metadata": {
  "kernelspec": {
   "display_name": "Python 3 (ipykernel)",
   "language": "python",
   "name": "python3"
  },
  "language_info": {
   "codemirror_mode": {
    "name": "ipython",
    "version": 3
   },
   "file_extension": ".py",
   "mimetype": "text/x-python",
   "name": "python",
   "nbconvert_exporter": "python",
   "pygments_lexer": "ipython3",
   "version": "3.11.5"
  }
 },
 "nbformat": 4,
 "nbformat_minor": 5
}
